{
 "cells": [
  {
   "cell_type": "code",
   "execution_count": null,
   "metadata": {},
   "outputs": [],
   "source": [
    "import pandas as pd\n",
    "import numpy as np \n",
    "\n",
    "#READING RANKING FILE FROM CSV\n",
    "df = pd.read_csv();\n"
   ]
  },
  {
   "cell_type": "code",
   "execution_count": null,
   "metadata": {},
   "outputs": [],
   "source": [
    "len(df)"
   ]
  },
  {
   "cell_type": "code",
   "execution_count": null,
   "metadata": {},
   "outputs": [],
   "source": [
    "#RANKING DETAILS FILE VARIABLE \n",
    "df"
   ]
  },
  {
   "cell_type": "code",
   "execution_count": null,
   "metadata": {},
   "outputs": [],
   "source": [
    "#KEYWORD AND RANKING VARIABLE FILE\n",
    "\n"
   ]
  },
  {
   "cell_type": "code",
   "execution_count": null,
   "metadata": {},
   "outputs": [],
   "source": [
    "len(dc)"
   ]
  },
  {
   "cell_type": "code",
   "execution_count": null,
   "metadata": {},
   "outputs": [],
   "source": [
    "#VARIABLES ATTACHED WITH THE STRING OF A CLUMN VARIABLE FROM THE RANKING DETAIL FILE\n",
    "GHR = 'Google HOU Rank'\n",
    "KW = 'Keyword'\n",
    "VSBY = 'Visibility'\n",
    "GHD = 'Google HOU Difference'\n",
    "GP = 'Google Previous'\n",
    "GMHR = 'Google Mobile HOU Rank'\n",
    "KW = 'Keyword'\n",
    "VSBY = 'Visibility'\n",
    "GMHD = 'Google Mobile HOU Difference'\n",
    "GMP = 'Google Mobile HOU Previous'\n",
    "BNGR = 'Bing US Rank'\n",
    "KW = 'Keyword'\n",
    "VSBY = 'Visibility'\n",
    "BNGDF = \"Bing US Difference\"\n",
    "BNGP = 'Bing US Previous'\n",
    "YAHR = 'Yahoo! Rank'\n",
    "KW = 'Keyword'\n",
    "VSBY = 'Visibility'\n",
    "YAHDIF = \"Yahoo! Difference\"\n",
    "YAHP = 'Yahoo! Previous'\n",
    "SE = \"SE\"\n",
    "NOTE = \"NOTE\"\n",
    "GMHR = 'Google Mobile HOU Rank'\n",
    "GMHD = 'Google Mobile HOU Difference'\n",
    "RP = 'Ranking page(s)'\n",
    "\n"
   ]
  },
  {
   "cell_type": "code",
   "execution_count": null,
   "metadata": {},
   "outputs": [],
   "source": [
    "#FIRST WE USE THE VARIABLE THAT STORES THE COLUMNS NAME. WE PLACE IT IN THE DF SQUARE BRACKET [] \n",
    "# PLACING IT IN THE SQUARE BRACKET SEARCHES THE \n",
    "# df (dataframe) column section for it's array under its name\n",
    "#We use pandas (pd) to turn the dataframe (df) into an array\n",
    "\n",
    "ArrayGHR = pd.array(df[GHR])\n",
    "ArrayGHD = pd.array(df[GHD])\n",
    "ArrayGMHR = pd.array(df[GMHR])\n",
    "ArrayGMHD = pd.array(df[GMHD])\n"
   ]
  },
  {
   "cell_type": "code",
   "execution_count": null,
   "metadata": {},
   "outputs": [],
   "source": [
    "def NEG_Y_FUNCTION(X, Y, ARRAY):\n",
    "    Y = -Y\n",
    "    z =  Y + X \n",
    "    ARRAY.append(z)\n",
    "    \n",
    "def X_GRT_Y_LOGIC_FUNCTION(X, Y, ARRAY):\n",
    "    Y = int(Y)\n",
    "    X = int(X)\n",
    "    if X > Y or X == Y:     \n",
    "        z = X - Y\n",
    "        ARRAY.append(z)\n",
    "    else:\n",
    "        Y = str(Y)\n",
    "        if \"-\" in Y:\n",
    "            Y = int(Y)\n",
    "            ARRAY.append(Y)\n",
    "        else:\n",
    "            ARRAY.append(Y)      \n",
    "    \n",
    "def Y_FUNCTION(X, Y, ARRAY):\n",
    "    Y = int(Y)\n",
    "\n",
    "    if Y >= 0:\n",
    "        X_GRT_Y_LOGIC_FUNCTION(X, Y, ARRAY)\n",
    "        \n",
    "    else:\n",
    "        NEG_Y_FUNCTION(X, Y, ARRAY)\n",
    "    \n",
    "def LOGIC_X_Y_STR(X, Y, RA):\n",
    "    if \"+\" in Y:\n",
    "        POS_Y = int(Y[1])\n",
    "        X_GRT_Y_LOGIC_FUNCTION(X, POS_Y, RA)\n",
    "    else:\n",
    "        POS_X = int(X)\n",
    "        Y_FUNCTION(POS_X, Y, RA)\n",
    "        \n",
    "\n",
    "def STANDARD_XY_FUNCTION(AR, AD, RA):\n",
    "    if \"(\" in AR:\n",
    "        NEW_AR = str(AR)\n",
    "        RANK_X = int(NEW_AR[0])\n",
    "        y = int(AD)\n",
    "        Y_FUNCTION(RANK_X, y, RA)\n",
    "    else:\n",
    "        LOGIC_X_Y_STR(AR, AD, RA)        \n",
    "        \n",
    "\n",
    "        \n",
    "\n",
    "\n",
    "def REMOVE_BARS_FUNCTION(ARRAY_R, X, R_A):\n",
    "    \n",
    "    if \"(\" in ARRAY_R[X]:\n",
    "        NEW_AR = str(ARRAY_R[X])\n",
    "        RANK_X = NEW_AR[0]\n",
    "        R_A.append(RANK_X)\n",
    "    else:\n",
    "        R_A.append(ARRAY_R[X])\n",
    "\n",
    "def BAR_RMV_ARRAY_OUTPUT (ARRAY_RANK):\n",
    "    RankArray = []\n",
    "    \n",
    "    \n",
    "    for x in range(len(ARRAY_RANK)):\n",
    "        REMOVE_BARS_FUNCTION(ARRAY_RANK, x, RankArray)\n",
    "    return RankArray\n",
    "\n",
    "def NOT_A_FLOAT_FUNCTION(AR, AD, RA):\n",
    "    if len(AD) > 3 or pd.isna(AD) == True:\n",
    "        RA.append(0)\n",
    "    else:\n",
    "        STANDARD_XY_FUNCTION(AR, AD, RA)\n",
    "\n",
    "#def DEL_STR (AR, AD, RA):\n",
    "    #if len(NEW_AR) > 3 == True: \n",
    "        \n",
    "        \n",
    "\n",
    "\n",
    "def ITS_A_FLOAT_FUNCTION(AR, AD, RA): \n",
    "    if pd.isna(AD) == True:\n",
    "        RA.append(0)\n",
    "    else:\n",
    "        STANDARD_XY_FUNCTION(AR, AD, RA)\n",
    "        \n",
    "\n",
    "\n",
    "\n",
    "\n",
    "##ARRAY_OUTPUT IS THE CONCLUSION LOGIC FORM FUNCTION INTEGRATED FROM OF ALL ABOVE FUNCTIONS \n",
    "##ARRAY_DIF TAKES IN THE ARRAY HOLDING THE DIFFERENCE COLUMN VARIABLES\n",
    "##ARRAY_RANK TAKES IN THE ARRAY HOLDING THE RANK COLUMN VARIABLES\n",
    "##DCDF TAKES IN THE WHOLE DATAFRAME OF THE DC VARIABLE\n",
    "\n",
    "\n",
    "def ARRAY_OUTPUT (ARRAY_DIF, ARRAY_RANK):\n",
    "    \n",
    "    ## CREATES AN BLANK ARRAY TO APPEND NEW VARIABLES TO\n",
    "    RankArray = []\n",
    "    \n",
    "    ##A FOR LOOP IS CREATED TO GO OVER ALL VARIABLES IN THE RANGE OF THE LENGTH \n",
    "    ##OF THE DIFFERENCE COLUMNS VARIABLE (ARRAY_DIF)\n",
    "    \n",
    "    for x in range(len(ARRAY_DIF)):\n",
    "        \n",
    "        ##IF THE ARRAYS VARIABLE AT THE INDEX POSITION IS A FLOAT THEN THIS WILL EXECUTE A FUNCTION\n",
    "        #CALLED ITS_A_FLOAT_FUNCTION\n",
    "        if isinstance(ARRAY_DIF[x], float) == True:\n",
    "            ITS_A_FLOAT_FUNCTION(ARRAY_RANK[x], ARRAY_DIF[x], RankArray)\n",
    "            \n",
    "        ##IF THE ARRAYS VARIABLE AT THE INDEX POSITION IS \n",
    "        #NOT A FLOAT THEN THIS WILL EXECUTE A FUNCTION\n",
    "        #CALLED NOT_A_FLOAT_FUNCTION\n",
    "\n",
    "\n",
    "        else:\n",
    "            NOT_A_FLOAT_FUNCTION(ARRAY_RANK[x], ARRAY_DIF[x], RankArray)\n",
    "\n",
    "    \n",
    "    ##RETURNS THE DATA STORED IN THE VARIABLE SO IT CAN BE STORED ELSEWHERE\n",
    "    ##FOR FURTHER DATA MANIPLUATION\n",
    "    return RankArray\n",
    "        \n",
    "    "
   ]
  },
  {
   "cell_type": "code",
   "execution_count": null,
   "metadata": {},
   "outputs": [],
   "source": [
    "\n",
    "def ENTER_NEG_Y_FUNCTION(X, Y, ARRAY):\n",
    "    Y = -Y\n",
    "    \n",
    "    ARRAY.append(Y)\n",
    "\n",
    "def ENTER_X_GRT_Y_LOGIC_FUNCTION(X, Y, ARRAY):\n",
    "    ARRAY.append(Y)\n",
    "    \n",
    "\n",
    "        \n",
    "    \n",
    "def ENTER_Y_FUNCTION(X, Y, ARRAY):\n",
    "    Y = int(Y)\n",
    "    if Y >= 0:\n",
    "        ENTER_X_GRT_Y_LOGIC_FUNCTION(X, Y, ARRAY)\n",
    "        \n",
    "    else:\n",
    "        ENTER_NEG_Y_FUNCTION(X, Y, ARRAY)\n",
    "    \n",
    "def ENTER_LOGIC_X_Y_STR(ARRAY, Y, RA):\n",
    "    Y = str(Y)\n",
    "    if \"+\" in Y:\n",
    "        POS_Y = int(Y[1])\n",
    "        ENTER_X_GRT_Y_LOGIC_FUNCTION(ARRAY, POS_Y, RA)\n",
    "    else:\n",
    "        POS_X = int(ARRAY)\n",
    "        ENTER_Y_FUNCTION(POS_X, Y, RA)\n",
    "        \n",
    "        \n",
    "        \n",
    "def ENTER_STANDARD_XY_FUNCTION(AR, AD, RA):\n",
    "    if \"(\" in AR:\n",
    "        NEW_AR = str(AR)\n",
    "        RANK_X = int(NEW_AR[0])\n",
    "        y = int(AD)\n",
    "        ENTER_Y_FUNCTION(RANK_X, y, RA)\n",
    "    else:\n",
    "        DIF_Y = int(AD)\n",
    "        ENTER_LOGIC_X_Y_STR(AR, DIF_Y, RA)\n",
    "\n",
    "def ENTER_NOT_A_FLOAT_FUNCTION(AR, AD, RA):\n",
    "    if len(AD) > 3 or pd.isna(AD) == True:\n",
    "        RA.append(0)\n",
    "    else:\n",
    "        ENTER_STANDARD_XY_FUNCTION(AR, AD, RA)\n",
    "        \n",
    "def ENTER_ITS_A_FLOAT_FUNCTION(AR, AD, RA): \n",
    "    if pd.isna(AD) == True:\n",
    "        RA.append(0)\n",
    "    else:\n",
    "        ENTER_STANDARD_XY_FUNCTION(AR, AD, RA)\n",
    "\n",
    "\n",
    "\n",
    "\n",
    "def CHANGE_ENTER_FUNCTION(AR, AD, AP):\n",
    "    RankArray = []\n",
    "    \n",
    "    for x in range(len(AD)):\n",
    "        if isinstance(AD[x], float) == True:\n",
    "            if pd.isna(AD[x]) == True:\n",
    "                if len(AR[x]) > 3 or pd.isna(AR[x]) == True:\n",
    "                    RankArray.append(30)\n",
    "                else:\n",
    "                    ARX = int(AR[x])\n",
    "                    RankArray.append(30-ARX)\n",
    "            else:\n",
    "                ENTER_ITS_A_FLOAT_FUNCTION(AR[x], AD[x], RankArray)\n",
    "        \n",
    "        else:\n",
    "            if len(AD[x]) > 3 or pd.isna(AD[x]) == True:\n",
    "                if len(AR[x]) > 3 or pd.isna(AR[x]) == True:\n",
    "                    RankArray.append(30)\n",
    "                else:\n",
    "                    ARX = int(AR[x])\n",
    "                    RankArray.append(30-ARX)\n",
    "            else:\n",
    "                ENTER_NOT_A_FLOAT_FUNCTION(AR[x], AD[x], RankArray)\n",
    "        \n",
    "    return RankArray\n",
    "        \n",
    "    "
   ]
  },
  {
   "cell_type": "code",
   "execution_count": null,
   "metadata": {},
   "outputs": [],
   "source": [
    "\n",
    "def NOTE_Y_FUNCTION(X, Y, ARRAY): \n",
    "    X = int(X)\n",
    "    Y = int(Y)\n",
    "    if X > Y:\n",
    "        ARRAY.append(\"UP\")\n",
    "        \n",
    "    if X < Y:\n",
    "        ARRAY.append(\"DOWN\")\n",
    "    \n",
    "    if X == Y:\n",
    "        ARRAY.append(\"EQ\")\n",
    "\n",
    "\n",
    "def CHANGE_NOTE_FUNCTION(AR, AP):\n",
    "    RankArray = []\n",
    "    \n",
    "    for x in range(len(AP)):\n",
    "        \n",
    "        if AP[x] == 0 or len(AR[x]) > 3:\n",
    "            RankArray.append('NEW')\n",
    "        else:\n",
    "            ARX = int(AR[x])\n",
    "            NOTE_Y_FUNCTION(ARX, AP[x], RankArray)\n",
    "        \n",
    "    return RankArray\n",
    "          \n",
    "\n",
    "\n"
   ]
  },
  {
   "cell_type": "code",
   "execution_count": null,
   "metadata": {},
   "outputs": [],
   "source": [
    "Array_GHR = BAR_RMV_ARRAY_OUTPUT(ArrayGHR)\n",
    "\n"
   ]
  },
  {
   "cell_type": "code",
   "execution_count": null,
   "metadata": {},
   "outputs": [],
   "source": [
    "GPD = ARRAY_OUTPUT(ArrayGHD, Array_GHR)\n",
    "GPD\n",
    "    "
   ]
  },
  {
   "cell_type": "code",
   "execution_count": null,
   "metadata": {},
   "outputs": [],
   "source": [
    "Array_GMHR = BAR_RMV_ARRAY_OUTPUT(ArrayGMHR)\n"
   ]
  },
  {
   "cell_type": "code",
   "execution_count": null,
   "metadata": {},
   "outputs": [],
   "source": [
    "GMPDF = ARRAY_OUTPUT(ArrayGMHD, Array_GMHR)\n"
   ]
  },
  {
   "cell_type": "code",
   "execution_count": null,
   "metadata": {},
   "outputs": [],
   "source": [
    "ArrayBNGDF = pd.array(df[BNGDF])\n",
    "ArrayBNGR = pd.array(df[BNGR])\n",
    "Array_BNGR = BAR_RMV_ARRAY_OUTPUT(ArrayBNGR)"
   ]
  },
  {
   "cell_type": "code",
   "execution_count": null,
   "metadata": {},
   "outputs": [],
   "source": [
    "BNGDFF = ARRAY_OUTPUT(ArrayBNGDF, Array_BNGR)\n",
    "\n"
   ]
  },
  {
   "cell_type": "code",
   "execution_count": null,
   "metadata": {},
   "outputs": [],
   "source": [
    "ArrayYAHDIF = pd.array(df[YAHDIF])\n",
    "\n",
    "ArrayYAHR = pd.array(df[YAHR])\n",
    "\n",
    "Array_YAHR = BAR_RMV_ARRAY_OUTPUT(ArrayYAHR)\n",
    "\n",
    "YAHDF = ARRAY_OUTPUT(ArrayYAHDIF, Array_YAHR)\n",
    "\n"
   ]
  },
  {
   "cell_type": "code",
   "execution_count": null,
   "metadata": {},
   "outputs": [],
   "source": [
    "GODIF_NEW = CHANGE_ENTER_FUNCTION(Array_GHR, ArrayGHD, GPD)\n",
    "GOMDIF_NEW = CHANGE_ENTER_FUNCTION(Array_GMHR, ArrayGMHD, GMPDF)\n",
    "BNGDIF_NEW = CHANGE_ENTER_FUNCTION(Array_BNGR, ArrayBNGDF, BNGDFF)\n",
    "YAHDIF_NEW = CHANGE_ENTER_FUNCTION(Array_YAHR, ArrayYAHDIF, YAHDF)"
   ]
  },
  {
   "cell_type": "code",
   "execution_count": null,
   "metadata": {},
   "outputs": [],
   "source": [
    "GOD_NOTE = CHANGE_NOTE_FUNCTION(Array_GHR, GPD)\n",
    "GOM_NOTE = CHANGE_NOTE_FUNCTION(Array_GMHR, GMPDF)\n",
    "BNG_NOTE = CHANGE_NOTE_FUNCTION(Array_BNGR, BNGDFF)\n",
    "YAH_NOTE = CHANGE_NOTE_FUNCTION(Array_YAHR, YAHDF)\n"
   ]
  },
  {
   "cell_type": "code",
   "execution_count": null,
   "metadata": {},
   "outputs": [],
   "source": [
    "#KW = keyword, GHRF = URL found, GHR = Rank, GHD = difference, GP = Google Previous, VSBY = visibilty,\n",
    "#note = note\n",
    "GOD = {KW: df[KW],RP: df[RP], GHR: Array_GHR,\n",
    "       GP: GPD, GHD: GODIF_NEW, NOTE: GOD_NOTE}\n",
    "\n",
    "GOM = {KW: df[KW], RP: df[RP], GMHR: Array_GMHR, \n",
    "       GMP: GMPDF, GMHD: GOMDIF_NEW, NOTE: GOM_NOTE}\n",
    "\n",
    "BNG = {KW: df[KW], RP: df[RP], BNGR: Array_BNGR,\n",
    "       BNGP: BNGDFF, BNGDF: BNGDIF_NEW, NOTE: BNG_NOTE}\n",
    "\n",
    "YAH = {KW: df[KW],RP: df[RP], YAHR: Array_YAHR,\n",
    "       YAHP: YAHDF, YAHDIF: YAHDIF_NEW, NOTE: YAH_NOTE}"
   ]
  },
  {
   "cell_type": "code",
   "execution_count": null,
   "metadata": {},
   "outputs": [],
   "source": [
    "GOD_DF = pd.DataFrame(data=GOD)\n",
    "GOD_DF"
   ]
  },
  {
   "cell_type": "code",
   "execution_count": null,
   "metadata": {},
   "outputs": [],
   "source": [
    "GOD[RP] == \"Not in top 30\""
   ]
  },
  {
   "cell_type": "code",
   "execution_count": null,
   "metadata": {},
   "outputs": [],
   "source": [
    "GOM_DF = pd.DataFrame(data=GOM)\n",
    "GOM_DF"
   ]
  },
  {
   "cell_type": "code",
   "execution_count": null,
   "metadata": {},
   "outputs": [],
   "source": [
    "GOM[RP] == \"Not in top 30\""
   ]
  },
  {
   "cell_type": "code",
   "execution_count": null,
   "metadata": {},
   "outputs": [],
   "source": [
    "BNG_DF = pd.DataFrame(data=BNG)\n",
    "BNG_DF[0:20]"
   ]
  },
  {
   "cell_type": "code",
   "execution_count": null,
   "metadata": {},
   "outputs": [],
   "source": [
    "BNG_DF[BNG_DF[BNG_DF[BNGR] == \"Not in top 30\"] [BNGR] ==  True]"
   ]
  },
  {
   "cell_type": "code",
   "execution_count": null,
   "metadata": {},
   "outputs": [],
   "source": [
    "YAH_DF = pd.DataFrame(data=YAH)\n",
    "YAH_DF"
   ]
  },
  {
   "cell_type": "code",
   "execution_count": null,
   "metadata": {},
   "outputs": [],
   "source": []
  },
  {
   "cell_type": "code",
   "execution_count": null,
   "metadata": {},
   "outputs": [],
   "source": [
    "REPORT_NAME = ['ReportSERPPositionsGOD.csv', 'ReportSERPPositionsGOM.csv', 'ReportSERPPositionsBNG.csv', 'ReportSERPPositionsYAH.csv']\n",
    "frames = [GOD_DF, GOM_DF, BNG_DF, YAH_DF]\n",
    "for i in range(len(frames)):\n",
    "    frames[i].to_csv(REPORT_NAME[i], index = None, header = False, sep='|')"
   ]
  },
  {
   "cell_type": "code",
   "execution_count": null,
   "metadata": {},
   "outputs": [],
   "source": [
    "import sys\n",
    "\n",
    "def GET_FRAME (CHOSEN_DFRAME):\n",
    "    frames = [GOD_DF, GOM_DF, BNG_DF, YAH_DF]\n",
    "    CHOSEN_FRAME = frames[CHOSEN_DFRAME]\n",
    "    output = CHOSEN_FRAME.to_json()\n",
    "    print(output)\n",
    "    sys.stdout.flush()\n",
    "\n",
    "\n",
    "    return CHOSEN_FRAME\n",
    "\n",
    "GET_FRAME(0)"
   ]
  }
 ],
 "metadata": {
  "kernelspec": {
   "display_name": "Python 3",
   "language": "python",
   "name": "python3"
  },
  "language_info": {
   "codemirror_mode": {
    "name": "ipython",
    "version": 3
   },
   "file_extension": ".py",
   "mimetype": "text/x-python",
   "name": "python",
   "nbconvert_exporter": "python",
   "pygments_lexer": "ipython3",
   "version": "3.7.4 (default, Aug  9 2019, 18:34:13) [MSC v.1915 64 bit (AMD64)]"
  },
  "vscode": {
   "interpreter": {
    "hash": "107c81da193588c1523ec1ac41bf4680c0b91f826c82eec6aadf9228ac691ce1"
   }
  }
 },
 "nbformat": 4,
 "nbformat_minor": 2
}
